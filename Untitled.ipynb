{
 "cells": [
  {
   "cell_type": "code",
   "execution_count": 1,
   "metadata": {},
   "outputs": [],
   "source": [
    "from sklearn.datasets import fetch_20newsgroups\n",
    "import numpy as np\n",
    "import matplotlib.pyplot as plt\n",
    "import re\n",
    "import hashlib\n",
    "import mmh3\n",
    "from collections import Counter\n",
    "import enchant\n",
    "d = enchant.Dict(\"en_US\")\n",
    "\n",
    "#http://dimacs.rutgers.edu/~graham/pubs/papers/cmencyc.pdf"
   ]
  },
  {
   "cell_type": "markdown",
   "metadata": {},
   "source": [
    "# Load and process data"
   ]
  },
  {
   "cell_type": "code",
   "execution_count": 2,
   "metadata": {},
   "outputs": [],
   "source": [
    "newsgroups_train = fetch_20newsgroups(subset='train', \n",
    "                                      remove=('headers', 'footers', 'quotes'))"
   ]
  },
  {
   "cell_type": "code",
   "execution_count": 115,
   "metadata": {},
   "outputs": [],
   "source": [
    "common_words = re.sub(r'[\\W\\d^_]', ' ', \" \".join(newsgroups_train.data).lower())\n",
    "raw_data = re.sub(r'[\\s]+', \",\", common_words).split(\",\")\n",
    "\n",
    "def check_english_word(w):\n",
    "    return (len(w)>1 and w!=\"ax\" and d.check(w)) or w in ['i','a','u','y']\n",
    "        \n",
    "data = list(filter(check_english_word, raw_data))[:]"
   ]
  },
  {
   "cell_type": "markdown",
   "metadata": {},
   "source": [
    "# 1 -Implémenter un Count-Min Sketch (w,d)"
   ]
  },
  {
   "cell_type": "code",
   "execution_count": 84,
   "metadata": {},
   "outputs": [],
   "source": [
    "class countMinSketch:\n",
    "    def __init__(self, w, d):\n",
    "       \n",
    "        self.d = d\n",
    "        self.w = w\n",
    "        self.seeds = np.arange(d)\n",
    "        self.sketch = np.zeros((d,w), dtype=int)\n",
    "         \n",
    "    def get_word_index(self, word):\n",
    "        def get_word_hashs(word, seed):\n",
    "            return mmh3.hash(word, seed)%self.w\n",
    "            \n",
    "        values = list(enumerate(map(lambda seed : get_word_hashs(word, seed), self.seeds)))\n",
    "        mask = tuple(zip(*values))\n",
    "        return mask\n",
    "    \n",
    "    def insert_word(self, word):\n",
    "        mask = self.get_word_index(word)\n",
    "        self.sketch[mask] +=1\n",
    "        \n",
    "    def get_word_count(self,word):\n",
    "        mask = self.get_word_index(word)\n",
    "        return np.min(self.sketch[mask])\n",
    "        \n",
    "    def print_sketch(self):\n",
    "        print(self.sketch)\n",
    "        "
   ]
  },
  {
   "cell_type": "markdown",
   "metadata": {},
   "source": [
    "# 2 –Rajouter l’option Conservative update sur vos Sketches, évaluer"
   ]
  },
  {
   "cell_type": "code",
   "execution_count": 85,
   "metadata": {},
   "outputs": [],
   "source": [
    "class countMinSketch_conservative_update:\n",
    "    def __init__(self, w, d):\n",
    "       \n",
    "        self.d = d\n",
    "        self.w = w\n",
    "        self.seeds = np.arange(d)\n",
    "        self.sketch = np.zeros((d,w), dtype=int)\n",
    "         \n",
    "    def get_word_index(self, word):\n",
    "        def get_word_hashs(word, seed):\n",
    "            return mmh3.hash(word, seed)%self.w\n",
    "            \n",
    "        values = list(enumerate(map(lambda seed : get_word_hashs(word, seed), self.seeds)))\n",
    "        mask = tuple(zip(*values))\n",
    "        return mask\n",
    "    \n",
    "    def insert_word(self, word):\n",
    "        mask = self.get_word_index(word)\n",
    "        all_min = np.argwhere(self.sketch[mask] == np.amin(self.sketch[mask]))\n",
    "        cells_to_update = np.array(tuple(zip(*mask)))[all_min] #Les indices d,w ou les counts du sketch sont minimum\n",
    "        slices = tuple(cells_to_update.transpose())\n",
    "        self.sketch[slices] +=1\n",
    "        \n",
    "    def get_word_count(self,word):\n",
    "        mask = self.get_word_index(word)\n",
    "        return np.min(self.sketch[mask])\n",
    "        \n",
    "    def print_sketch(self):\n",
    "        print(self.sketch)\n",
    "        "
   ]
  },
  {
   "cell_type": "markdown",
   "metadata": {},
   "source": [
    "# 3 –Implémenter un Count-Min Sketch avec des compteurs de Morris sur 8 bits"
   ]
  },
  {
   "cell_type": "code",
   "execution_count": 107,
   "metadata": {},
   "outputs": [],
   "source": [
    "class countMinSketch_morris: #On ajoute le compteur de Morris\n",
    "    def __init__(self, w, d, radix=2):\n",
    "        self.d = d\n",
    "        self.w = w\n",
    "        self.seeds = np.arange(d)\n",
    "        self.sketch = np.zeros((d,w), dtype='uint8')\n",
    "        self.radix = radix\n",
    "        self.max_exponent = 2**8-1 #On peut compter jusqu'a radix**max_exponent\n",
    "        #np.random.seed(0)\n",
    "         \n",
    "    def get_word_index(self, word):\n",
    "        def get_word_hashs(word, seed):\n",
    "            return mmh3.hash(word, seed)%self.w\n",
    "            \n",
    "        values = list(enumerate(map(lambda seed : get_word_hashs(word, seed), self.seeds)))\n",
    "        mask = tuple(zip(*values))\n",
    "        return mask\n",
    "    \n",
    "    def insert_word(self, word):\n",
    "        mask = self.get_word_index(word)\n",
    "        all_min = np.argwhere(self.sketch[mask] == np.amin(self.sketch[mask]))\n",
    "        cells_to_update = np.array(tuple(zip(*mask)))[all_min] #Les indices d,w ou les counts du sketch sont minimum\n",
    "        slices = tuple(cells_to_update.transpose())\n",
    "        \n",
    "        sample = np.random.rand(self.sketch[slices].size) #On ajoute 1 avec la proba 1/2**self.sketch[slices]\n",
    "        self.sketch[slices] += np.logical_and(self.sketch[slices] < self.max_exponent,\n",
    "                                               sample < 1/self.radix**self.sketch[slices])        \n",
    "        \n",
    "    def get_word_count(self,word):\n",
    "        mask = self.get_word_index(word)\n",
    "        return self.radix**np.min(self.sketch[mask]) // (self.radix - 1)    \n",
    "        \n",
    "    def print_sketch(self):\n",
    "        print(self.sketch)\n",
    "        "
   ]
  },
  {
   "cell_type": "markdown",
   "metadata": {},
   "source": [
    "# Graph"
   ]
  },
  {
   "cell_type": "code",
   "execution_count": 38,
   "metadata": {},
   "outputs": [],
   "source": [
    "def make_a_cms(w, d, data):\n",
    "    cms = countMinSketch(w=w, d=d)\n",
    "    for w in data:\n",
    "        cms.insert_word(w)\n",
    "    return cms\n",
    "\n",
    "def graph_error(ws, ds, data, axs):\n",
    "    unique_words = np.unique(data) #Get all unique words\n",
    "    cnt = Counter(data)\n",
    "    ground_truth = np.array(tuple(map(lambda w : cnt[w], unique_words)))\n",
    "    \n",
    "    for d,ax in zip(ds,axs):\n",
    "        rmse = list()\n",
    "        are = list()\n",
    "        for w in ws:\n",
    "            cms = make_a_cms(w,d, data)\n",
    "            predictions = np.vectorize(cms.get_word_count)(unique_words)\n",
    "            rmse.append(RMSE(predictions, ground_truth))\n",
    "            are.append(ARE(predictions, ground_truth))\n",
    "        ax.plot(ws,rmse)\n",
    "        ax.plot(ws, are)\n",
    "    "
   ]
  },
  {
   "cell_type": "code",
   "execution_count": 37,
   "metadata": {},
   "outputs": [],
   "source": [
    "def RMSE(predictions, ground_truth):\n",
    "    sample_size = len(predictions)\n",
    "    return (1/sample_size*((predictions-ground_truth)**2).sum())**0.5\n",
    "\n",
    "def ARE(predictions, ground_truth):\n",
    "    sample_size = len(predictions)\n",
    "    return (1/sample_size*(((predictions-ground_truth) / ground_truth)**2).sum())**0.5"
   ]
  },
  {
   "cell_type": "code",
   "execution_count": 26,
   "metadata": {},
   "outputs": [
    {
     "data": {
      "image/png": "[encoded data removed]",
      "text/plain": [
       "<Figure size 2160x360 with 4 Axes>"
      ]
     },
     "metadata": {
      "needs_background": "light"
     },
     "output_type": "display_data"
    }
   ],
   "source": [
    "ds = [2,3,5,8]\n",
    "ws = [100,300,750,1500,3000,7500,15000,30000,50000]\n",
    "fig, axs  = plt.subplots(1,len(ds), figsize=(30,5))\n",
    "graph_error(ws, ds, data, axs)\n",
    "plt.show()"
   ]
  },
  {
   "cell_type": "code",
   "execution_count": 117,
   "metadata": {},
   "outputs": [
    {
     "name": "stderr",
     "output_type": "stream",
     "text": [
      "/home/mados/.local/lib/python3.6/site-packages/ipykernel_launcher.py:27: RuntimeWarning: divide by zero encountered in true_divide\n"
     ]
    },
    {
     "name": "stdout",
     "output_type": "stream",
     "text": [
      "[0 2 2 ... 4 4 2]\n",
      "[48189     1     3 ...     2     8     2]\n",
      "17405312.975585803\n",
      "70664421411782.83\n"
     ]
    }
   ],
   "source": [
    "unique_words = np.unique(data) #Get all unique words\n",
    "cnt = Counter(data)\n",
    "ground_truth = np.array(tuple(map(lambda w : cnt[w], unique_words)))\n",
    "\n",
    "cms = countMinSketch_morris(w=30000, d=8)\n",
    "#cms = countMinSketch_conservative_update(w=100, d=100)\n",
    "#cms = countMinSketch(w=100, d=100)\n",
    "\n",
    "\n",
    "for w in data:\n",
    "    cms.insert_word(w)\n",
    "    \n",
    "predictions = np.vectorize(cms.get_word_count)(unique_words)\n",
    "print(predictions)\n",
    "print(ground_truth)\n",
    "print(RMSE(predictions, ground_truth))\n",
    "print(ARE(predictions, ground_truth))"
   ]
  },
  {
   "cell_type": "code",
   "execution_count": 33,
   "metadata": {},
   "outputs": [
    {
     "name": "stdout",
     "output_type": "stream",
     "text": [
      "(array([0, 1]), array([3, 0]))\n",
      "[4 1]\n"
     ]
    }
   ],
   "source": [
    "l = np.array([[1,2,3,4],[1,2,3,4]])\n",
    "slices = np.array([[0,1],[3,0]])\n",
    "#slices = ((0),(0))\n",
    "slices = tuple(slices)\n",
    "print(slices)\n",
    "a = l[slices]\n",
    "print(a)"
   ]
  },
  {
   "cell_type": "code",
   "execution_count": 66,
   "metadata": {},
   "outputs": [
    {
     "data": {
      "text/plain": [
       "array([[0.5, 0.5, 0.5]])"
      ]
     },
     "execution_count": 66,
     "metadata": {},
     "output_type": "execute_result"
    }
   ],
   "source": [
    "a = np.array([[1,1,1]])\n",
    "1/2**(a)"
   ]
  },
  {
   "cell_type": "code",
   "execution_count": null,
   "metadata": {},
   "outputs": [],
   "source": [
    "#https://en.wikipedia.org/wiki/Approximate_counting_algorithm\n",
    "\n",
    "class MorrisCounter(object):\n",
    "    def __init__(self, size=1000000, radix=2, seed=3282):\n",
    "        self.exponents = np.zeros(size, dtype=dtype)\n",
    "        self.radix = radix\n",
    "        self.size = size\n",
    "        self.max_exponent = 2**23-1\n",
    "        random.seed(seed)\n",
    "\n",
    "    def _delta(self, idx):\n",
    "        return self.radix**-int(self.exponents[idx])\n",
    "\n",
    "    def _get_idx(self, item):\n",
    "        return hashing(item) % self.size\n",
    "\n",
    "    def increment(self, item):\n",
    "        idx = self._get_idx(item)\n",
    "        self.exponents[idx] += (self.exponents[idx] < self.max_exponent and\n",
    "                                random.random() < self._delta(idx))\n",
    "\n",
    "    def count(self, item):\n",
    "        idx = self._get_idx(item)\n",
    "        return self.radix**self.exponents[idx] // (self.radix - 1)\n"
   ]
  }
 ],
 "metadata": {
  "kernelspec": {
   "display_name": "Python 3",
   "language": "python",
   "name": "python3"
  },
  "language_info": {
   "codemirror_mode": {
    "name": "ipython",
    "version": 3
   },
   "file_extension": ".py",
   "mimetype": "text/x-python",
   "name": "python",
   "nbconvert_exporter": "python",
   "pygments_lexer": "ipython3",
   "version": "3.6.9"
  }
 },
 "nbformat": 4,
 "nbformat_minor": 2
}
