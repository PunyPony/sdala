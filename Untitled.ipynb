{
 "cells": [
  {
   "cell_type": "code",
   "execution_count": 259,
   "metadata": {},
   "outputs": [],
   "source": [
    "from sklearn.datasets import fetch_20newsgroups\n",
    "import numpy as np\n",
    "import matplotlib.pyplot as plt\n",
    "import re\n",
    "import hashlib\n",
    "import mmh3\n",
    "from collections import Counter\n",
    "import enchant\n",
    "d = enchant.Dict(\"en_US\")\n",
    "\n",
    "#http://dimacs.rutgers.edu/~graham/pubs/papers/cmencyc.pdf"
   ]
  },
  {
   "cell_type": "markdown",
   "metadata": {},
   "source": [
    "# Load and process data"
   ]
  },
  {
   "cell_type": "code",
   "execution_count": 8,
   "metadata": {},
   "outputs": [],
   "source": [
    "newsgroups_train = fetch_20newsgroups(subset='train', \n",
    "                                      remove=('headers', 'footers', 'quotes'))"
   ]
  },
  {
   "cell_type": "code",
   "execution_count": 209,
   "metadata": {},
   "outputs": [],
   "source": [
    "common_words = re.sub(r'[\\W\\d^_]', ' ', \" \".join(newsgroups_train.data).lower())\n",
    "raw_data = re.sub(r'[\\s]+', \",\", common_words).split(\",\")\n",
    "\n",
    "def check_english_word(w):\n",
    "    return (len(w)>1 and w!=\"ax\" and d.check(w)) or w in ['i','a','u','y']\n",
    "        \n",
    "data = list(filter(check_english_word, raw_data))"
   ]
  },
  {
   "cell_type": "markdown",
   "metadata": {},
   "source": [
    "# 1 -Implémenter un Count-Min Sketch (w,d)"
   ]
  },
  {
   "cell_type": "code",
   "execution_count": 221,
   "metadata": {},
   "outputs": [],
   "source": [
    "class countMinSketch:\n",
    "    def __init__(self, w, d):\n",
    "       \n",
    "        self.d = d\n",
    "        self.w = w\n",
    "        self.seeds = np.arange(d)\n",
    "        self.sketch = np.zeros((d,w), dtype=int)\n",
    "         \n",
    "    def get_word_index(self, word):\n",
    "        def get_word_hashs(word, seed):\n",
    "            return mmh3.hash(word, seed)%self.w\n",
    "            \n",
    "        values = list(enumerate(map(lambda seed : get_word_hashs(word, seed), self.seeds)))\n",
    "        mask = tuple(zip(*values))\n",
    "        return mask\n",
    "    \n",
    "    def insert_word(self, word):\n",
    "        mask = self.get_word_index(word)\n",
    "        self.sketch[mask] += 1\n",
    "    \n",
    "    def get_word_count(self,word):\n",
    "        mask = self.get_word_index(word)\n",
    "        return np.min(self.sketch[mask])\n",
    "        \n",
    "    def print_sketch(self):\n",
    "        print(self.sketch)\n",
    "        "
   ]
  },
  {
   "cell_type": "markdown",
   "metadata": {},
   "source": [
    "# Graph"
   ]
  },
  {
   "cell_type": "code",
   "execution_count": 276,
   "metadata": {},
   "outputs": [],
   "source": [
    "def make_a_cms(w, d, data):\n",
    "    cms = countMinSketch(w=w, d=d)\n",
    "    for w in data:\n",
    "        cms.insert_word(w)\n",
    "    return cms\n",
    "\n",
    "def graph_error(ws, ds, data, axs):\n",
    "    unique_words = np.unique(data) #Get all unique words\n",
    "    cnt = Counter(data)\n",
    "    ground_truth = np.array(tuple(map(lambda w : cnt[w], unique_words)))\n",
    "    \n",
    "    for d,ax in zip(ds,axs):\n",
    "        rmse = list()\n",
    "        are = list()\n",
    "        for w in ws:\n",
    "            make_a_cms(w,d, data)\n",
    "            predictions = np.vectorize(cms.get_word_count)(unique_words)\n",
    "            rmse.append(RMSE(predictions, ground_truth))\n",
    "            are.append(ARE(predictions, ground_truth))\n",
    "        ax.plot(ws,rmse)\n",
    "        ax.plot(ws, are)\n",
    "    "
   ]
  },
  {
   "cell_type": "code",
   "execution_count": 277,
   "metadata": {},
   "outputs": [],
   "source": [
    "def RMSE(predictions, ground_truth):\n",
    "    sample_size = len(predictions)\n",
    "    return (1/sample_size*((predictions-ground_truth)**2).sum())**0.5\n",
    "\n",
    "def ARE(predictions, ground_truth):\n",
    "    sample_size = len(predictions)\n",
    "    return (1/sample_size*(((predictions-ground_truth) / ground_truth)**2).sum())**0.5"
   ]
  },
  {
   "cell_type": "code",
   "execution_count": 280,
   "metadata": {},
   "outputs": [
    {
     "data": {
      "image/png": "[encoded data removed]",
      "text/plain": [
       "<Figure size 432x288 with 9 Axes>"
      ]
     },
     "metadata": {
      "needs_background": "light"
     },
     "output_type": "display_data"
    }
   ],
   "source": [
    "ds = [2,3,5,8]\n",
    "ws = [100,300,750,1500,3000,7500,15000,30000,50000]\n",
    "fig, axs  = plt.subplots(1,len(ds))\n",
    "graph_error(ws, ds, data, axs)\n",
    "plt.show()"
   ]
  },
  {
   "cell_type": "code",
   "execution_count": null,
   "metadata": {},
   "outputs": [],
   "source": []
  }
 ],
 "metadata": {
  "kernelspec": {
   "display_name": "Python 3",
   "language": "python",
   "name": "python3"
  },
  "language_info": {
   "codemirror_mode": {
    "name": "ipython",
    "version": 3
   },
   "file_extension": ".py",
   "mimetype": "text/x-python",
   "name": "python",
   "nbconvert_exporter": "python",
   "pygments_lexer": "ipython3",
   "version": "3.6.9"
  }
 },
 "nbformat": 4,
 "nbformat_minor": 2
}
