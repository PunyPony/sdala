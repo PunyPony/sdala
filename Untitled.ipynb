{
 "cells": [
  {
   "cell_type": "code",
   "execution_count": 1,
   "metadata": {},
   "outputs": [],
   "source": [
    "from sklearn.datasets import fetch_20newsgroups\n",
    "import numpy as np\n",
    "import matplotlib.pyplot as plt\n",
    "import re\n",
    "import hashlib\n",
    "import mmh3\n",
    "from collections import Counter\n",
    "import enchant\n",
    "d = enchant.Dict(\"en_US\")\n",
    "\n",
    "#http://dimacs.rutgers.edu/~graham/pubs/papers/cmencyc.pdf"
   ]
  },
  {
   "cell_type": "markdown",
   "metadata": {},
   "source": [
    "# Load and process data"
   ]
  },
  {
   "cell_type": "code",
   "execution_count": 2,
   "metadata": {},
   "outputs": [],
   "source": [
    "newsgroups_train = fetch_20newsgroups(subset='train', \n",
    "                                      remove=('headers', 'footers', 'quotes'))"
   ]
  },
  {
   "cell_type": "code",
   "execution_count": 3,
   "metadata": {},
   "outputs": [],
   "source": [
    "common_words = re.sub(r'[\\W\\d^_]', ' ', \" \".join(newsgroups_train.data).lower())\n",
    "raw_data = re.sub(r'[\\s]+', \",\", common_words).split(\",\")\n",
    "\n",
    "def check_english_word(w):\n",
    "    return (len(w)>1 and w!=\"ax\" and d.check(w)) or w in ['i','a','u','y']\n",
    "        \n",
    "data = list(filter(check_english_word, raw_data))[:1000]"
   ]
  },
  {
   "cell_type": "markdown",
   "metadata": {},
   "source": [
    "# 1 -Implémenter un Count-Min Sketch (w,d)"
   ]
  },
  {
   "cell_type": "code",
   "execution_count": 50,
   "metadata": {},
   "outputs": [],
   "source": [
    "class countMinSketch:\n",
    "    def __init__(self, w, d):\n",
    "        self.d = d\n",
    "        self.w = w\n",
    "        self.seeds = np.arange(d)\n",
    "        self.sketch = np.zeros((d,w), dtype=int) #Initialisation des counts\n",
    "         \n",
    "    def get_word_index(self, word):    \n",
    "        values = list(enumerate(map(lambda seed : mmh3.hash(word, seed)%self.w, self.seeds))) #liste de pair d'indice ou l'on va récuperer les counts\n",
    "        mask = tuple(zip(*values)) #pour faire une selection dans un array numpy\n",
    "        return mask\n",
    "    \n",
    "    def insert_word(self, word):\n",
    "        mask = self.get_word_index(word)\n",
    "        self.sketch[mask] +=1\n",
    "        \n",
    "    def get_word_count(self,word):\n",
    "        mask = self.get_word_index(word)\n",
    "        return np.min(self.sketch[mask])\n"
   ]
  },
  {
   "cell_type": "markdown",
   "metadata": {},
   "source": [
    "# 2 –Rajouter l’option Conservative update sur vos Sketches, évaluer"
   ]
  },
  {
   "cell_type": "code",
   "execution_count": 51,
   "metadata": {},
   "outputs": [],
   "source": [
    "class countMinSketchConservativeUpdate: #On ajoute le conservative Update\n",
    "    def __init__(self, w, d):\n",
    "        self.d = d\n",
    "        self.w = w\n",
    "        self.seeds = np.arange(d)\n",
    "        self.sketch = np.zeros((d,w), dtype=int) #Initialisation des counts\n",
    "         \n",
    "    def get_word_index(self, word):\n",
    "        values = list(enumerate(map(lambda seed : mmh3.hash(word, seed)%self.w, self.seeds)))\n",
    "        mask = tuple(zip(*values))\n",
    "        return mask\n",
    "    \n",
    "    def insert_word(self, word):\n",
    "        mask = self.get_word_index(word)\n",
    "        all_min = np.argwhere(self.sketch[mask] == np.amin(self.sketch[mask])) #Il peut y avoir plusieurs minimums\n",
    "        cells_to_update = np.array(tuple(zip(*mask)))[all_min] #Les indices d,w ou les counts du sketch sont minimum\n",
    "        slices = tuple(cells_to_update.transpose())\n",
    "        self.sketch[slices] +=1\n",
    "        \n",
    "    def get_word_count(self,word):\n",
    "        mask = self.get_word_index(word)\n",
    "        return np.min(self.sketch[mask])"
   ]
  },
  {
   "cell_type": "markdown",
   "metadata": {},
   "source": [
    "# 3 –Implémenter un Count-Min Sketch avec des compteurs de Morris sur 8 bits"
   ]
  },
  {
   "cell_type": "code",
   "execution_count": 52,
   "metadata": {},
   "outputs": [],
   "source": [
    "#https://en.wikipedia.org/wiki/Approximate_counting_algorithm\n",
    "\n",
    "class countMinSketchMorris: #On ajoute le compteur de Morris\n",
    "    def __init__(self, w, d, radix=2):\n",
    "        self.d = d\n",
    "        self.w = w\n",
    "        self.seeds = np.arange(d)\n",
    "        self.sketch = np.zeros((d,w), dtype='uint8') #On va stocker uniquement les exposants \n",
    "        \n",
    "        self.radix = 2**(1/8) #radix c'est la valeur qui nous à été demmandé de calculer\n",
    "        self.max_exponent = 2**8 #On peut compter jusqu'a radix**max_exponent (bien égal à 2^32)\n",
    "        np.random.seed(0)\n",
    "         \n",
    "    def get_word_index(self, word):\n",
    "        values = list(enumerate(map(lambda seed : mmh3.hash(word, seed)%self.w, self.seeds)))\n",
    "        mask = tuple(zip(*values))\n",
    "        return mask\n",
    "    \n",
    "    def insert_word(self, word):\n",
    "        mask = self.get_word_index(word)\n",
    "        all_min = np.argwhere(self.sketch[mask] == np.amin(self.sketch[mask]))\n",
    "        cells_to_update = np.array(tuple(zip(*mask)))[all_min] #Les indices d,w ou les counts du sketch sont minimum\n",
    "        slices = tuple(cells_to_update.transpose())\n",
    "        \n",
    "        sample = np.random.rand(self.sketch[slices].size) #On ajoute 1 avec la proba 1/2**self.sketch[slices]\n",
    "                \n",
    "        self.sketch[slices] += np.logical_and(self.sketch[slices] < self.max_exponent,\n",
    "                                               sample < 1/self.radix**self.sketch[slices])\n",
    "        # On update l'exposant que si le nombre aléatoire généré à passé le test probabiliste \n",
    "        \n",
    "    def get_word_count(self,word):\n",
    "        mask = self.get_word_index(word)\n",
    "        return (self.radix**np.min(self.sketch[mask]) - self.radix) // (self.radix - 1) \n",
    "        # On retourne l'estimateur et non pas la valeur brute"
   ]
  },
  {
   "cell_type": "markdown",
   "metadata": {},
   "source": [
    "# 4 –Avec un HashArray avec LinearProbing, faire la même évaluation (toujours la taille mémoire en abscisse), avec différentes tailles de fingerprint. "
   ]
  },
  {
   "cell_type": "code",
   "execution_count": 83,
   "metadata": {},
   "outputs": [],
   "source": [
    "class HashArrayLinearProbing: \n",
    "    def __init__(self, table_size):\n",
    "        #self.seeds = [1,2]\n",
    "        self.table_size = table_size\n",
    "        self.table = np.zeros((table_size,2), dtype=int)\n",
    "        \n",
    "    def hashs(self, word):\n",
    "        return (mmh3.hash(word, 1)%self.table_size, mmh3.hash(word, 2))\n",
    "                 \n",
    "    def insert_word(self, word):\n",
    "        cell, fingerprint = self.hashs(word)\n",
    "        for i in range(self.table_size):\n",
    "            it_cell = (cell+i)%self.table_size\n",
    "            cell_value, cell_fingerprint = self.table[it_cell]\n",
    "            if cell_fingerprint == 0:\n",
    "                #print(\"ins\")\n",
    "                self.table[it_cell] = [1, fingerprint]\n",
    "                return\n",
    "\n",
    "            if cell_fingerprint == fingerprint:\n",
    "                #print(\"found\")\n",
    "                self.table[it_cell][0] += 1\n",
    "                return\n",
    "        #print(\"reach max cell\")\n",
    "\n",
    "    def get_word_count(self,word):\n",
    "        cell, fingerprint = self.hashs(word)\n",
    "        for i in range(self.table_size):\n",
    "            it_cell = (cell+i)%self.table_size\n",
    "            cell_value, cell_fingerprint = self.table[it_cell]        \n",
    "            \n",
    "            if cell_fingerprint == 0:\n",
    "                return 0\n",
    "            \n",
    "            if cell_fingerprint == fingerprint:\n",
    "                return self.table[it_cell][0]\n",
    "        return 0\n",
    "\n",
    "            "
   ]
  },
  {
   "cell_type": "code",
   "execution_count": 84,
   "metadata": {},
   "outputs": [
    {
     "name": "stdout",
     "output_type": "stream",
     "text": [
      "[32  6  1  1  1  1  1  1  2  1  1  1  2  1  6  1  1  1  3  1 23  1  1  1\n",
      "  4  3  1  2  1  1  6  1  2  2  6  2  1  1  2  1  1  1  8  3  1  1  1  1\n",
      "  1  6  5  1  1  1  1  1  2  1  2  5  8  4  1  6  4  1  1  1  7  1  2  1\n",
      "  2  1  1  1  1  1  3  1  2  4  1  1  1  1  4  1  1  1  1  1  1  1  1  3\n",
      "  3  1  1  5  4  1  1  1  1  1  1  1  1  1  1  1  1  2  1  1  1  1  1  1\n",
      "  1  1  2  2  1  1  4  2  1  1  1  1  1  3  1  1  2  1  1  1  1  8  5  1\n",
      "  1  1  1  1  2  1  1  1  1  1  1  1  3  1  2 11  2  3  1  1  1  1  1  1\n",
      "  2  1  1  3  1 34  1  3 10  1  1 15  1  2  6  1  1  1  2  1  1  1 21 18\n",
      "  1  3  3  1  1  1  1  1  1  1  1  1  2  1  1  1  2  1  2  7  3  1  1  2\n",
      "  1  1  1  1  1  2  2  1  1  1  3  1  1  1  3  1  4  1  1  2  2  1  2  1\n",
      "  4  1  2 18  9  1  1  2  6  1  2  3  1  1  1  1  2  1  1  1  1  1  4  1\n",
      "  1  2  1  1  1  1  1  1  1  2  1  1  1  1  1  1  1  1  1  1  2  1  1  1\n",
      "  1  1  3  1  1  1  1  1  1  1  1  2  1  1  1  1  1  1  1  1  2  1  1  1\n",
      "  2  1  1  1  1  2  1  1  1  1  1  1  1  3  1  1  3  2  1  1  1  1  3  1\n",
      "  1  2  1  2  1  1  1  1  1  1  1  1  1  1  1  1  1  1  1  2  4  2  3 11\n",
      " 58  2  3  4  1  2  1  1 19  1  1  2  1  1 18  2  1  1  1  1  1  1  1  1\n",
      "  1  2  1  4  1  1  1  3  5  2  1  1  2  1  2  9  1  2  1  3  1  2  3  1\n",
      "  3  1  1  4  4  1  2  1  1 15  1  2  1  2  1  1  1  1  1  1  1  1  1  9\n",
      "  2]\n",
      "[32  6  1  1  1  1  1  1  2  1  1  1  2  1  6  1  1  1  3  1 23  1  1  1\n",
      "  4  3  1  2  1  1  6  1  2  2  6  2  1  1  2  1  1  1  8  3  1  1  1  1\n",
      "  1  6  5  1  1  1  1  1  2  1  2  5  8  4  1  6  4  1  1  1  7  1  2  1\n",
      "  2  1  1  1  1  1  3  1  2  4  1  1  1  1  4  1  1  1  1  1  1  1  1  3\n",
      "  3  1  1  5  4  1  1  1  1  1  1  1  1  1  1  1  1  2  1  1  1  1  1  1\n",
      "  1  1  2  2  1  1  4  2  1  1  1  1  1  3  1  1  2  1  1  1  1  8  5  1\n",
      "  1  1  1  1  2  1  1  1  1  1  1  1  3  1  2 11  2  3  1  1  1  1  1  1\n",
      "  2  1  1  3  1 34  1  3 10  1  1 15  1  2  6  1  1  1  2  1  1  1 21 18\n",
      "  1  3  3  1  1  1  1  1  1  1  1  1  2  1  1  1  2  1  2  7  3  1  1  2\n",
      "  1  1  1  1  1  2  2  1  1  1  3  1  1  1  3  1  4  1  1  2  2  1  2  1\n",
      "  4  1  2 18  9  1  1  2  6  1  2  3  1  1  1  1  2  1  1  1  1  1  4  1\n",
      "  1  2  1  1  1  1  1  1  1  2  1  1  1  1  1  1  1  1  1  1  2  1  1  1\n",
      "  1  1  3  1  1  1  1  1  1  1  1  2  1  1  1  1  1  1  1  1  2  1  1  1\n",
      "  2  1  1  1  1  2  1  1  1  1  1  1  1  3  1  1  3  2  1  1  1  1  3  1\n",
      "  1  2  1  2  1  1  1  1  1  1  1  1  1  1  1  1  1  1  1  2  4  2  3 11\n",
      " 58  2  3  4  1  2  1  1 19  1  1  2  1  1 18  2  1  1  1  1  1  1  1  1\n",
      "  1  2  1  4  1  1  1  3  5  2  1  1  2  1  2  9  1  2  1  3  1  2  3  1\n",
      "  3  1  1  4  4  1  2  1  1 15  1  2  1  2  1  1  1  1  1  1  1  1  1  9\n",
      "  2]\n"
     ]
    },
    {
     "data": {
      "text/plain": [
       "0.0"
      ]
     },
     "execution_count": 84,
     "metadata": {},
     "output_type": "execute_result"
    }
   ],
   "source": [
    "a = HashArrayLinearProbing(1000)\n",
    "for w in data:\n",
    "    a.insert_word(w)\n",
    "    \n",
    "unique_words = np.unique(data) #Get all unique words\n",
    "cnt = Counter(data)\n",
    "\n",
    "ground_truth = np.array(tuple(map(lambda w : cnt[w], unique_words)))\n",
    "predictions = np.vectorize(a.get_word_count)(unique_words)\n",
    "\n",
    "print(ground_truth)\n",
    "print(predictions)\n",
    "RMSE(predictions, ground_truth)\n"
   ]
  },
  {
   "cell_type": "markdown",
   "metadata": {},
   "source": [
    "# Graph"
   ]
  },
  {
   "cell_type": "code",
   "execution_count": 55,
   "metadata": {},
   "outputs": [],
   "source": [
    "def make_a_cms(w, d, data):\n",
    "    cms = countMinSketch(w=w, d=d)\n",
    "    for w in data:\n",
    "        cms.insert_word(w)\n",
    "    return cms\n",
    "\n",
    "def graph_error(ws, ds, data, axs):\n",
    "    unique_words = np.unique(data) #Get all unique words\n",
    "    cnt = Counter(data)\n",
    "    ground_truth = np.array(tuple(map(lambda w : cnt[w], unique_words)))\n",
    "    \n",
    "    for d,ax in zip(ds,axs):\n",
    "        rmse = list()\n",
    "        are = list()\n",
    "        for w in ws:\n",
    "            cms = make_a_cms(w,d, data)\n",
    "            predictions = np.vectorize(cms.get_word_count)(unique_words)\n",
    "            rmse.append(RMSE(predictions, ground_truth))\n",
    "            are.append(ARE(predictions, ground_truth))\n",
    "        ax.plot(ws,rmse)\n",
    "        ax.plot(ws, are)\n",
    "    "
   ]
  },
  {
   "cell_type": "code",
   "execution_count": 56,
   "metadata": {},
   "outputs": [],
   "source": [
    "def RMSE(predictions, ground_truth):\n",
    "    sample_size = len(predictions)\n",
    "    return (1/sample_size*((predictions-ground_truth)**2).sum())**0.5\n",
    "\n",
    "def ARE(predictions, ground_truth):\n",
    "    sample_size = len(predictions)\n",
    "    return (1/sample_size*(((predictions-ground_truth) / ground_truth)**2).sum())**0.5"
   ]
  },
  {
   "cell_type": "code",
   "execution_count": 61,
   "metadata": {},
   "outputs": [
    {
     "data": {
      "image/png": "[encoded data removed]",
      "text/plain": [
       "<Figure size 2160x360 with 4 Axes>"
      ]
     },
     "metadata": {
      "needs_background": "light"
     },
     "output_type": "display_data"
    }
   ],
   "source": [
    "ds = [2,3,5,8]\n",
    "#ws = [100,300,750,1500,3000,7500,15000,30000,50000]\n",
    "ws = np.linspace(1,1000,100).astype(int)\n",
    "\n",
    "fig, axs  = plt.subplots(1,len(ds), figsize=(30,5))\n",
    "graph_error(ws, ds, data, axs)\n",
    "plt.show()"
   ]
  },
  {
   "cell_type": "code",
   "execution_count": 49,
   "metadata": {},
   "outputs": [
    {
     "name": "stdout",
     "output_type": "stream",
     "text": [
      "[10.  3.  0.  0.  0.  0.  0.  0.  0.  0.  0.  0.  1.  0.  3.  0.  0.  0.\n",
      "  1.  0. 10.  0.  0.  0.  2.  1.  0.  0.  0.  0.  2.  0.  0.  1.  3.  0.\n",
      "  0.  0.  0.  0.  0.  0.  3.  1.  0.  0.  0.  0.  0.  3.  3.  0.  0.  0.\n",
      "  0.  0.  1.  0.  1.  2.  3.  1.  0.  2.  1.  0.  0.  0.  3.  0.  0.  0.\n",
      "  0.  0.  0.  0.  0.  0.  1.  0.  1.  1.  0.  0.  0.  0.  2.  0.  0.  0.\n",
      "  0.  0.  0.  0.  0.  1.  1.  0.  0.  2.  1.  0.  0.  0.  0.  0.  0.  0.\n",
      "  0.  0.  0.  0.  0.  1.  0.  0.  0.  0.  0.  0.  0.  0.  0.  1.  0.  0.\n",
      "  1.  1.  0.  0.  0.  0.  0.  1.  0.  0.  0.  0.  0.  0.  0.  3.  2.  0.\n",
      "  0.  0.  0.  0.  1.  0.  0.  0.  0.  0.  0.  0.  1.  0.  0.  4.  1.  1.\n",
      "  0.  0.  0.  0.  0.  0.  1.  0.  0.  1.  0. 12.  0.  2.  3.  0.  0.  6.\n",
      "  0.  1.  2.  0.  0.  0.  0.  0.  0.  0.  8.  6.  0.  1.  2.  0.  0.  0.\n",
      "  0.  0.  0.  0.  0.  0.  1.  0.  0.  0.  0.  0.  1.  3.  1.  0.  0.  0.\n",
      "  0.  0.  0.  0.  0.  1.  1.  0.  0.  0.  1.  0.  0.  0.  1.  0.  1.  0.\n",
      "  0.  1.  1.  0.  0.  0.  1.  0.  0.  8.  3.  0.  0.  0.  3.  0.  1.  0.\n",
      "  0.  0.  0.  0.  0.  0.  0.  0.  0.  0.  1.  0.  0.  0.  0.  0.  0.  0.\n",
      "  0.  0.  0.  0.  0.  0.  0.  0.  0.  0.  0.  0.  0.  0.  0.  0.  0.  0.\n",
      "  0.  0.  1.  0.  0.  0.  0.  0.  0.  0.  0.  0.  0.  0.  0.  0.  0.  0.\n",
      "  0.  0.  0.  0.  0.  0.  0.  0.  0.  0.  0.  1.  0.  0.  0.  0.  0.  0.\n",
      "  0.  1.  0.  0.  1.  0.  0.  0.  0.  0.  1.  0.  0.  0.  0.  0.  0.  0.\n",
      "  0.  0.  0.  0.  0.  0.  0.  0.  0.  0.  0.  0.  0.  0.  2.  0.  1.  4.\n",
      " 28.  1.  1.  2.  0.  0.  0.  0. 10.  0.  0.  1.  0.  0. 10.  0.  0.  0.\n",
      "  0.  0.  0.  0.  0.  0.  0.  1.  0.  1.  0.  0.  0.  1.  2.  1.  0.  0.\n",
      "  0.  0.  1.  4.  0.  0.  0.  1.  0.  1.  2.  0.  1.  0.  0.  2.  1.  0.\n",
      "  0.  0.  0.  6.  0.  1.  0.  1.  0.  0.  0.  0.  0.  0.  0.  0.  0.  4.\n",
      "  0.]\n",
      "[32  6  1  1  1  1  1  1  2  1  1  1  2  1  6  1  1  1  3  1 23  1  1  1\n",
      "  4  3  1  2  1  1  6  1  2  2  6  2  1  1  2  1  1  1  8  3  1  1  1  1\n",
      "  1  6  5  1  1  1  1  1  2  1  2  5  8  4  1  6  4  1  1  1  7  1  2  1\n",
      "  2  1  1  1  1  1  3  1  2  4  1  1  1  1  4  1  1  1  1  1  1  1  1  3\n",
      "  3  1  1  5  4  1  1  1  1  1  1  1  1  1  1  1  1  2  1  1  1  1  1  1\n",
      "  1  1  2  2  1  1  4  2  1  1  1  1  1  3  1  1  2  1  1  1  1  8  5  1\n",
      "  1  1  1  1  2  1  1  1  1  1  1  1  3  1  2 11  2  3  1  1  1  1  1  1\n",
      "  2  1  1  3  1 34  1  3 10  1  1 15  1  2  6  1  1  1  2  1  1  1 21 18\n",
      "  1  3  3  1  1  1  1  1  1  1  1  1  2  1  1  1  2  1  2  7  3  1  1  2\n",
      "  1  1  1  1  1  2  2  1  1  1  3  1  1  1  3  1  4  1  1  2  2  1  2  1\n",
      "  4  1  2 18  9  1  1  2  6  1  2  3  1  1  1  1  2  1  1  1  1  1  4  1\n",
      "  1  2  1  1  1  1  1  1  1  2  1  1  1  1  1  1  1  1  1  1  2  1  1  1\n",
      "  1  1  3  1  1  1  1  1  1  1  1  2  1  1  1  1  1  1  1  1  2  1  1  1\n",
      "  2  1  1  1  1  2  1  1  1  1  1  1  1  3  1  1  3  2  1  1  1  1  3  1\n",
      "  1  2  1  2  1  1  1  1  1  1  1  1  1  1  1  1  1  1  1  2  4  2  3 11\n",
      " 58  2  3  4  1  2  1  1 19  1  1  2  1  1 18  2  1  1  1  1  1  1  1  1\n",
      "  1  2  1  4  1  1  1  3  5  2  1  1  2  1  2  9  1  2  1  3  1  2  3  1\n",
      "  3  1  1  4  4  1  2  1  1 15  1  2  1  2  1  1  1  1  1  1  1  1  1  9\n",
      "  2]\n",
      "3.0019239404273477\n",
      "0.9188267390128558\n"
     ]
    }
   ],
   "source": [
    "unique_words = np.unique(data) #Get all unique words\n",
    "cnt = Counter(data)\n",
    "ground_truth = np.array(tuple(map(lambda w : cnt[w], unique_words)))\n",
    "\n",
    "cms = countMinSketchMorris(w=30000, d=8)\n",
    "#cms = countMinSketch_conservative_update(w=100, d=100)\n",
    "#cms = countMinSketch(w=100, d=100)\n",
    "\n",
    "\n",
    "for w in data:\n",
    "    cms.insert_word(w)\n",
    "    \n",
    "predictions = np.vectorize(cms.get_word_count)(unique_words)\n",
    "print(predictions)\n",
    "print(ground_truth)\n",
    "print(RMSE(predictions, ground_truth))\n",
    "print(ARE(predictions, ground_truth))"
   ]
  }
 ],
 "metadata": {
  "kernelspec": {
   "display_name": "Python 3",
   "language": "python",
   "name": "python3"
  },
  "language_info": {
   "codemirror_mode": {
    "name": "ipython",
    "version": 3
   },
   "file_extension": ".py",
   "mimetype": "text/x-python",
   "name": "python",
   "nbconvert_exporter": "python",
   "pygments_lexer": "ipython3",
   "version": "3.6.9"
  }
 },
 "nbformat": 4,
 "nbformat_minor": 2
}
