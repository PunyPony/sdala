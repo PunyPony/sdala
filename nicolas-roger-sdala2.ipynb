{
 "cells": [
  {
   "cell_type": "code",
   "execution_count": 1,
   "metadata": {},
   "outputs": [],
   "source": [
    "from sklearn.datasets import fetch_20newsgroups\n",
    "from sklearn.feature_extraction.text import CountVectorizer\n",
    "from sklearn.feature_extraction.text import TfidfTransformer\n",
    "from sklearn.decomposition import TruncatedSVD\n",
    "from sklearn.preprocessing import normalize\n",
    "from sklearn.cluster import KMeans\n",
    "from itertools import combinations\n",
    "import numpy as np\n",
    "from scipy.spatial import distance\n",
    "import matplotlib.pyplot as plt\n",
    "import random\n",
    "from itertools import chain\n",
    "from sklearn.metrics import pairwise_distances\n",
    "random_state=42\n",
    "random.seed(random_state)"
   ]
  },
  {
   "cell_type": "code",
   "execution_count": 2,
   "metadata": {},
   "outputs": [],
   "source": [
    "twenty_train = fetch_20newsgroups(subset='train', shuffle=True, random_state=random_state, remove=('headers', 'footers', 'quotes'))\n",
    "twenty_test = fetch_20newsgroups(subset='test', shuffle=True, random_state=random_state, remove=('headers', 'footers', 'quotes'))"
   ]
  },
  {
   "cell_type": "code",
   "execution_count": 3,
   "metadata": {},
   "outputs": [
    {
     "data": {
      "text/plain": [
       "[]"
      ]
     },
     "execution_count": 3,
     "metadata": {},
     "output_type": "execute_result"
    },
    {
     "data": {
      "image/png": "[encoded data removed]",
      "text/plain": [
       "<Figure size 432x288 with 1 Axes>"
      ]
     },
     "metadata": {
      "needs_background": "light"
     },
     "output_type": "display_data"
    }
   ],
   "source": [
    "plt.hist(twenty_train.target, bins=np.arange(len(twenty_train.target_names)))\n",
    "plt.plot()"
   ]
  },
  {
   "cell_type": "code",
   "execution_count": 4,
   "metadata": {},
   "outputs": [],
   "source": [
    "count_vect = CountVectorizer()\n",
    "X_train_counts = count_vect.fit_transform(twenty_train.data)\n",
    "\n",
    "tf_transformer = TfidfTransformer(sublinear_tf=True, use_idf=True).fit(X_train_counts)\n",
    "X_train_tfidf = tf_transformer.transform(X_train_counts)"
   ]
  },
  {
   "cell_type": "code",
   "execution_count": 5,
   "metadata": {},
   "outputs": [],
   "source": [
    "svd = TruncatedSVD(n_components=128, n_iter=5, random_state=random_state, algorithm=\"randomized\")\n",
    "X_train_lsa = svd.fit_transform(X_train_tfidf)\n",
    "X_train_lsa = normalize(X_train_lsa, norm='l2', axis=1)"
   ]
  },
  {
   "cell_type": "code",
   "execution_count": 6,
   "metadata": {},
   "outputs": [],
   "source": [
    "# random documents of each news group\n",
    "\n",
    "# On choisit une news au hasard pour chaque sujet\n",
    "def sample_each(index_target, sample_id, nb_to_select=1):    \n",
    "    return list(chain.from_iterable([filter_select(index_target, i, nb_to_select) for i in sample_id]))\n",
    "\n",
    "# On choisit une parmis les celle qui ont le bon sujet\n",
    "def filter_select(index_target, by, nb_to_select=1):\n",
    "    filtered = tuple(filter(lambda i_t : i_t[1]==by, index_target))\n",
    "    return random.choices(filtered, k=nb_to_select)\n",
    "\n",
    "index_target = list(enumerate(twenty_train.target))\n",
    "random_indexes = list(map(lambda p : p[0], sample_each(index_target, list(range(len(twenty_train.target_names))))))\n",
    "lsa_to_test = zip(random_indexes,X_train_lsa[random_indexes])\n"
   ]
  },
  {
   "cell_type": "code",
   "execution_count": 7,
   "metadata": {},
   "outputs": [],
   "source": [
    "# On trie par distance cosinus\n",
    "def nearest(corpus, lsa, to_test):\n",
    "    close_index = sorted(range(len(lsa)), key=lambda i : 1 - np.dot(to_test,lsa[i])/np.linalg.norm(to_test)*np.linalg.norm(lsa[i]))    \n",
    "    return close_index, [corpus[i] for i in close_index]\n",
    "\n",
    "\n",
    "corpus = list() #Les textes triés par distance cosinus\n",
    "indexes = list() #Les indexes triés par distance cosinus\n",
    "target = list() #News à tester\n",
    "for indexes_to_test, to_test in lsa_to_test:\n",
    "    target.append(twenty_train.data[indexes_to_test])\n",
    "    indexes_sorted_by_cosine, corpus_sorted_by_cosine = nearest(twenty_train.data, X_train_lsa, to_test)\n",
    "    indexes.append(indexes_sorted_by_cosine)\n",
    "    corpus.append(corpus_sorted_by_cosine)"
   ]
  },
  {
   "cell_type": "code",
   "execution_count": 8,
   "metadata": {},
   "outputs": [
    {
     "name": "stdout",
     "output_type": "stream",
     "text": [
      "Target:________________________\n",
      "\n",
      "\n",
      "\n",
      "Correction: _hard_ atheism is a faith.\n",
      "\n",
      "\n",
      "\n",
      "Get a grip, man.  The Stalin example was brought up not as an\n",
      "indictment of atheism, but merely as another example of how people will\n",
      "kill others under any name that's fit for the occasion.\n",
      "\n",
      "\n",
      "\n",
      "So hard atheism has nothing to prove?  Then how does it justify that\n",
      "God does not exist?  I know, there's the FAQ, etc.  But guess what -- if\n",
      "those justifications were so compelling why aren't people flocking to\n",
      "_hard_ atheism?  They're not, and they won't.  I for one will discourage\n",
      "people from hard atheism by pointing out those very sources as reliable\n",
      "statements on hard atheism.\n",
      "\n",
      "Second, what makes you think I'm defending any given religion?  I'm merely\n",
      "recognizing hard atheism for what it is, a faith.\n",
      "\n",
      "And yes, by \"we\" I am referring to every reader of the post.  Where is the\n",
      "evidence that the poster stated that he relied upon?\n",
      "\n",
      "         ^^^^\n",
      "\n",
      "Bzzt!  By virtue of your innocent little pronoun, \"they\", you've just issued\n",
      "a blanket statement.  At least I will apologize by qualifying my original\n",
      "statement with \"hard atheist\" in place of atheist.  Would you call John the\n",
      "Baptist arrogant, who boasted of one greater than he?  That's what many\n",
      "Christians do today.  How is that _in itself_ arrogant?\n",
      "With your sophisticated put-down of \"they\", the theists, _your_ serious\n",
      "misinformation shines through.\n",
      "\n",
      "--\n",
      "Bake Timmons, III \n",
      "\n",
      "Predicted:_____________________\n",
      "\n",
      "\n",
      "\n",
      "Correction: _hard_ atheism is a faith.\n",
      "\n",
      "\n",
      "\n",
      "Get a grip, man.  The Stalin example was brought up not as an\n",
      "indictment of atheism, but merely as another example of how people will\n",
      "kill others under any name that's fit for the occasion.\n",
      "\n",
      "\n",
      "\n",
      "So hard atheism has nothing to prove?  Then how does it justify that\n",
      "God does not exist?  I know, there's the FAQ, etc.  But guess what -- if\n",
      "those justifications were so compelling why aren't people flocking to\n",
      "_hard_ atheism?  They're not, and they won't.  I for one will discourage\n",
      "people from hard atheism by pointing out those very sources as reliable\n",
      "statements on hard atheism.\n",
      "\n",
      "Second, what makes you think I'm defending any given religion?  I'm merely\n",
      "recognizing hard atheism for what it is, a faith.\n",
      "\n",
      "And yes, by \"we\" I am referring to every reader of the post.  Where is the\n",
      "evidence that the poster stated that he relied upon?\n",
      "\n",
      "         ^^^^\n",
      "\n",
      "Bzzt!  By virtue of your innocent little pronoun, \"they\", you've just issued\n",
      "a blanket statement.  At least I will apologize by qualifying my original\n",
      "statement with \"hard atheist\" in place of atheist.  Would you call John the\n",
      "Baptist arrogant, who boasted of one greater than he?  That's what many\n",
      "Christians do today.  How is that _in itself_ arrogant?\n",
      "With your sophisticated put-down of \"they\", the theists, _your_ serious\n",
      "misinformation shines through.\n",
      "\n",
      "--\n",
      "Bake Timmons, III\n"
     ]
    },
    {
     "data": {
      "text/plain": [
       "'\\nOn retrouve la même news, logique.\\n'"
      ]
     },
     "execution_count": 8,
     "metadata": {},
     "output_type": "execute_result"
    }
   ],
   "source": [
    "print(\"Target:________________________\")\n",
    "print(target[0],'\\n')\n",
    "\n",
    "print(\"Predicted:_____________________\")\n",
    "print(corpus[0][:1][0])\n",
    "\n",
    "\"\"\"\n",
    "On retrouve la même news, logique.\n",
    "\"\"\""
   ]
  },
  {
   "cell_type": "code",
   "execution_count": 9,
   "metadata": {},
   "outputs": [
    {
     "data": {
      "text/plain": [
       "'\\nMemoire non compréssé : nb_exemple * nb_coeff_lsa (float-8byte) = 11314 * 128 * 8 = 115.855.36\\nMemoire compréssé : nb_exemple * label_index (unsigned int / 4-byte) (On peut chosir 1 byte...)\\n                    + nb_centroïde * taille_tranche * nb_tranche (8-bytes par coeff du centroïde) (double)\\n                    + nb_centroïde*(nb_centroïde-1)/2 * nb_tranche (8-bytes pour la distance) (double)\\n                    =  11314 * 4 + 256 * 8 * 16 * 8 + 1/2*(256*255) * 16 =  829.640\\n\\nLe facteur de compression est de quasiment 14.\\n'"
      ]
     },
     "execution_count": 9,
     "metadata": {},
     "output_type": "execute_result"
    }
   ],
   "source": [
    "def PQ_kmeans_centroïdes(slice_size, n_clusters):\n",
    "    nb_tranche = len(X_train_lsa[0])//slice_size\n",
    "    X_train_lsa_q = X_train_lsa.reshape(-1,nb_tranche,slice_size)\n",
    "    kmeans_list = list()\n",
    "    all_labels = list()\n",
    "\n",
    "\n",
    "    for i in range(nb_tranche):\n",
    "        test = X_train_lsa_q[:,i:i+1].reshape(-1,slice_size)\n",
    "        kmeans = KMeans(n_clusters=n_clusters, random_state=random_state, n_jobs=-1).fit(test)\n",
    "        kmeans_list.append(kmeans)\n",
    "        labels = kmeans.labels_\n",
    "        all_labels.append(labels)\n",
    "\n",
    "    all_labels = np.transpose(np.vstack(tuple(all_labels)))\n",
    "    return all_labels, kmeans_list\n",
    "\n",
    "\n",
    "\n",
    "\"\"\"\n",
    "Memoire non compréssé : nb_exemple * nb_coeff_lsa (float-8byte) = 11314 * 128 * 8 = 115.855.36\n",
    "Memoire compréssé : nb_exemple * label_index (unsigned int / 4-byte) (On peut chosir 1 byte...)\n",
    "                    + nb_centroïde * taille_tranche * nb_tranche (8-bytes par coeff du centroïde) (double)\n",
    "                    + nb_centroïde*(nb_centroïde-1)/2 * nb_tranche (8-bytes pour la distance) (double)\n",
    "                    =  11314 * 4 + 256 * 8 * 16 * 8 + 1/2*(256*255) * 16 =  829.640\n",
    "\n",
    "Le facteur de compression est de quasiment 14.\n",
    "\"\"\"\n",
    "\n"
   ]
  },
  {
   "cell_type": "code",
   "execution_count": 10,
   "metadata": {},
   "outputs": [],
   "source": [
    "# On creer un dictionnaire contenant toutes les distances entre cluster\n",
    "# la clef est (index_cluster_from, index_cluster_to) trié par ordre croissant\n",
    "\n",
    "def compute_dist_centers(all_kmeans):\n",
    "    all_dist = list()\n",
    "    index_pairs_centers = tuple(combinations(np.arange(len(all_kmeans[0].cluster_centers_)), r=2))\n",
    "    for km in all_kmeans:\n",
    "        d = dict()\n",
    "        pairs_centers = tuple(combinations( km.cluster_centers_, r=2))\n",
    "        for index_pair_centers, pair_center  in zip(index_pairs_centers, pairs_centers):            \n",
    "            d[index_pair_centers] = distance.euclidean(pair_center[0], pair_center[1])\n",
    "        all_dist.append(d)\n",
    "    return all_dist\n",
    "\n",
    "def approched_dist(key, all_labels, dist_dicts):\n",
    "    def cluster_index_to_dist(labels_line):\n",
    "        res = list()\n",
    "        for c_lab_key, c_lab, dist_dict in zip(key, labels_line, dist_dicts):\n",
    "            h = tuple(sorted((c_lab_key,c_lab)))\n",
    "            val = 0. if c_lab_key==c_lab else dist_dict[h]\n",
    "            res.append(val)\n",
    "        return sum(res)\n",
    "    \n",
    "    return list(enumerate(np.apply_along_axis(cluster_index_to_dist, 1, all_labels)))\n",
    "    \n",
    "    "
   ]
  },
  {
   "cell_type": "code",
   "execution_count": 11,
   "metadata": {},
   "outputs": [],
   "source": [
    "def recall(predicted, ground_truth):\n",
    "    assert(len(predicted)==len(ground_truth))\n",
    "    contains = list(map(lambda x : x in ground_truth, predicted))\n",
    "    return sum(contains)/len(ground_truth)"
   ]
  },
  {
   "cell_type": "code",
   "execution_count": 12,
   "metadata": {},
   "outputs": [],
   "source": [
    "def sort_index_with_distance_base_on_PQ(slice_size, n_clusters):\n",
    "    all_labels, kmeans_list = PQ_kmeans_centroïdes(slice_size,n_clusters)\n",
    "    dist_dicts = compute_dist_centers(kmeans_list)\n",
    "    sorted_index = list()\n",
    "\n",
    "    for i in random_indexes:\n",
    "        dists = approched_dist(all_labels[i], all_labels, dist_dicts)\n",
    "        sorted_dist = sorted(dists, key=lambda p:p[1])\n",
    "        indexes_approched = list(map(lambda p: p[0], sorted_dist))\n",
    "        sorted_index.append(indexes_approched)\n",
    "    return sorted_index\n",
    "\n"
   ]
  },
  {
   "cell_type": "code",
   "execution_count": 22,
   "metadata": {},
   "outputs": [],
   "source": [
    "sorted_index = sort_index_with_distance_base_on_PQ(8,256)\n",
    "neighborhood = [8,16,32,64,128,256,512,1024,2048,4096,8192]\n",
    "\n",
    "means_recall = list()\n",
    "for n in neighborhood:\n",
    "    mean_recall = 0\n",
    "    for i in range(len(indexes)):\n",
    "        predicted = sorted_index[i]\n",
    "        ground_truth = indexes[i]\n",
    "        mean_recall += recall(predicted[:n], ground_truth[:n])/len(indexes)\n",
    "    means_recall.append(mean_recall)\n"
   ]
  },
  {
   "cell_type": "code",
   "execution_count": 23,
   "metadata": {},
   "outputs": [
    {
     "data": {
      "image/png": "[encoded data removed]",
      "text/plain": [
       "<Figure size 432x288 with 1 Axes>"
      ]
     },
     "metadata": {
      "needs_background": "light"
     },
     "output_type": "display_data"
    }
   ],
   "source": [
    "plt.xlabel('number of neighbours')\n",
    "plt.ylabel('recall')\n",
    "plt.plot(neighborhood, means_recall)\n",
    "plt.show()"
   ]
  },
  {
   "cell_type": "code",
   "execution_count": 24,
   "metadata": {},
   "outputs": [],
   "source": [
    "n = 2048\n",
    "means_recall = list()\n",
    "slice_sizes = [2,4,8,16,32,64,128]\n",
    "\n",
    "for slice_size in slice_sizes:\n",
    "    mean_recall = 0\n",
    "    sorted_index = sort_index_with_distance_base_on_PQ(slice_size,256)\n",
    "    for i in range(len(indexes)):\n",
    "        predicted = sorted_index[i]\n",
    "        ground_truth = indexes[i]\n",
    "        mean_recall += recall(predicted[:n], ground_truth[:n])/len(indexes)\n",
    "    means_recall.append(mean_recall)\n"
   ]
  },
  {
   "cell_type": "code",
   "execution_count": 25,
   "metadata": {},
   "outputs": [
    {
     "data": {
      "image/png": "[encoded data removed]",
      "text/plain": [
       "<Figure size 432x288 with 1 Axes>"
      ]
     },
     "metadata": {
      "needs_background": "light"
     },
     "output_type": "display_data"
    }
   ],
   "source": [
    "plt.xlabel('slice size')\n",
    "plt.ylabel('recall')\n",
    "plt.plot(slice_sizes, means_recall)\n",
    "plt.show()"
   ]
  },
  {
   "cell_type": "code",
   "execution_count": null,
   "metadata": {},
   "outputs": [],
   "source": []
  }
 ],
 "metadata": {
  "kernelspec": {
   "display_name": "Python 3",
   "language": "python",
   "name": "python3"
  },
  "language_info": {
   "codemirror_mode": {
    "name": "ipython",
    "version": 3
   },
   "file_extension": ".py",
   "mimetype": "text/x-python",
   "name": "python",
   "nbconvert_exporter": "python",
   "pygments_lexer": "ipython3",
   "version": "3.6.9"
  }
 },
 "nbformat": 4,
 "nbformat_minor": 2
}
