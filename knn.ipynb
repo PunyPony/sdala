{
 "cells": [
  {
   "cell_type": "code",
   "execution_count": 15,
   "metadata": {},
   "outputs": [],
   "source": [
    "from sklearn.datasets import fetch_20newsgroups\n",
    "from sklearn.feature_extraction.text import CountVectorizer\n",
    "from sklearn.feature_extraction.text import TfidfTransformer\n",
    "from sklearn.decomposition import TruncatedSVD\n",
    "from sklearn.preprocessing import normalize\n",
    "from sklearn.cluster import KMeans\n",
    "import numpy as np\n",
    "from scipy.spatial import distance\n",
    "import matplotlib.pyplot as plt\n",
    "import random\n",
    "from itertools import chain\n",
    "random_state=42"
   ]
  },
  {
   "cell_type": "code",
   "execution_count": 2,
   "metadata": {},
   "outputs": [],
   "source": [
    "twenty_train = fetch_20newsgroups(subset='train', shuffle=True, random_state=random_state, remove=('headers', 'footers', 'quotes'))\n",
    "twenty_test = fetch_20newsgroups(subset='test', shuffle=True, random_state=random_state, remove=('headers', 'footers', 'quotes'))"
   ]
  },
  {
   "cell_type": "code",
   "execution_count": 3,
   "metadata": {},
   "outputs": [
    {
     "data": {
      "text/plain": [
       "[]"
      ]
     },
     "execution_count": 3,
     "metadata": {},
     "output_type": "execute_result"
    },
    {
     "data": {
      "image/png": "[encoded data removed]",
      "text/plain": [
       "<Figure size 432x288 with 1 Axes>"
      ]
     },
     "metadata": {
      "needs_background": "light"
     },
     "output_type": "display_data"
    }
   ],
   "source": [
    "plt.hist(twenty_train.target, bins=np.arange(20))\n",
    "plt.plot()"
   ]
  },
  {
   "cell_type": "code",
   "execution_count": 4,
   "metadata": {},
   "outputs": [],
   "source": [
    "count_vect = CountVectorizer()\n",
    "X_train_counts = count_vect.fit_transform(twenty_train.data)\n",
    "\n",
    "tf_transformer = TfidfTransformer(sublinear_tf=True, use_idf=True).fit(X_train_counts)\n",
    "X_train_tfidf = tf_transformer.transform(X_train_counts)"
   ]
  },
  {
   "cell_type": "code",
   "execution_count": 5,
   "metadata": {},
   "outputs": [],
   "source": [
    "svd = TruncatedSVD(n_components=128, n_iter=5, random_state=random_state, algorithm=\"randomized\")\n",
    "X_train_lsa = svd.fit_transform(X_train_tfidf)\n",
    "X_train_lsa = normalize(X_train_lsa, norm='l2', axis=1)\n",
    "\n"
   ]
  },
  {
   "cell_type": "code",
   "execution_count": 6,
   "metadata": {},
   "outputs": [],
   "source": [
    "# random documents of each news group\n",
    "def sample_each(index_target, sample_id, nb_to_select=1):    \n",
    "    return list(chain.from_iterable([filter_select(index_target, i, nb_to_select) for i in sample_id]))\n",
    "\n",
    "def filter_select(index_target, by, nb_to_select=1):\n",
    "    filtered = tuple(filter(lambda i_t : i_t[1]==by, index_target))\n",
    "    return random.choices(filtered, k=nb_to_select)\n",
    "\n",
    "index_target = list(enumerate(twenty_train.target))\n",
    "indexes = list(map(lambda p : p[0], sample_each(index_target, list(range(20)))))\n",
    "lsa_to_test = zip(indexes,X_train_lsa[indexes])"
   ]
  },
  {
   "cell_type": "code",
   "execution_count": 7,
   "metadata": {},
   "outputs": [],
   "source": [
    "#for test in lsa_to_test:\n",
    "def nearest(corpus, lsa, to_test):\n",
    "    close_index = sorted(range(len(lsa)), key=lambda i : 1 - np.dot(to_test,lsa[i])/np.linalg.norm(to_test)*np.linalg.norm(lsa[i]))    \n",
    "    return close_index, [corpus[i] for i in close_index]\n",
    "\n",
    "\n",
    "corpus = list()\n",
    "indexes = list()\n",
    "target = list()\n",
    "for indexes_to_test, to_test in lsa_to_test:\n",
    "    target.append(twenty_train.data[indexes_to_test])\n",
    "    indexes_sorted_by_cosine, corpus_sorted_by_cosine = nearest(twenty_train.data, X_train_lsa, to_test)\n",
    "    indexes_sorted_by_cosine.append(indexes_sorted_by_cosine)\n",
    "    corpus.append(corpus_sorted_by_cosine)"
   ]
  },
  {
   "cell_type": "code",
   "execution_count": 9,
   "metadata": {},
   "outputs": [
    {
     "name": "stdout",
     "output_type": "stream",
     "text": [
      "Target:________________________\n",
      "\n",
      ": >EVER HEAR OF\n",
      ": >BAPTISM AT BIRTH?  If that isn't preying on the young, I don't know what\n",
      ": >is...\n",
      ": >\n",
      ": RB>   \n",
      ": RB>   No, that's praying on the young.  Preying on the young comes\n",
      ": RB>   later, when the bright eyed little altar boy finds out what the\n",
      ": RB>   priest really wears under that chasible.\n",
      "\n",
      "Does this statement further the atheist cause in some way, surely it's\n",
      "not intended as wit ... \n",
      "\n",
      "Predicted:_____________________\n",
      "\n",
      ": >EVER HEAR OF\n",
      ": >BAPTISM AT BIRTH?  If that isn't preying on the young, I don't know what\n",
      ": >is...\n",
      ": >\n",
      ": RB>   \n",
      ": RB>   No, that's praying on the young.  Preying on the young comes\n",
      ": RB>   later, when the bright eyed little altar boy finds out what the\n",
      ": RB>   priest really wears under that chasible.\n",
      "\n",
      "Does this statement further the atheist cause in some way, surely it's\n",
      "not intended as wit ...\n"
     ]
    }
   ],
   "source": [
    "print(\"Target:________________________\")\n",
    "print(target[0],'\\n')\n",
    "\n",
    "print(\"Predicted:_____________________\")\n",
    "print(corpus[0][:1][0])\n"
   ]
  },
  {
   "cell_type": "code",
   "execution_count": 10,
   "metadata": {},
   "outputs": [
    {
     "name": "stdout",
     "output_type": "stream",
     "text": [
      "(11314, 128)\n"
     ]
    }
   ],
   "source": [
    "print(X_train_lsa.shape)"
   ]
  },
  {
   "cell_type": "code",
   "execution_count": 65,
   "metadata": {},
   "outputs": [],
   "source": [
    "tranche_size = 8\n",
    "nb_tranche = len(X_train_lsa[0])//tranche_size\n",
    "X_train_lsa_q = X_train_lsa.reshape(-1,nb_tranche,tranche_size)\n",
    "n_clusters=4\n",
    "kmeans_list = list()\n",
    "all_labels = list()\n",
    "\n",
    "\n",
    "for i in range(16):\n",
    "    test = X_train_lsa_q[:,i:i+1].reshape(-1,tranche_size)\n",
    "    kmeans = KMeans(n_clusters=n_clusters, random_state=random_state).fit(test)\n",
    "    kmeans_list.append(kmeans)\n",
    "    labels = kmeans.labels_\n",
    "    all_labels.append(labels)\n",
    "\n",
    "all_labels = np.vstack(tuple(all_labels))\n",
    "\n",
    "\"\"\"\n",
    "Memoire non compréssé : nb_exemple * nb_coeff_lsa (float-8byte) = 11314 * 128 * 8 = 11585536\n",
    "Memoire compréssé : nb_exemple * label_index (unsigned int / 4-byte) \n",
    "                    + nb_centroïde * taille_tranche * nb_tranche\n",
    "                    +  \n",
    "\"\"\"\n",
    "\n",
    "\n"
   ]
  }
 ],
 "metadata": {
  "kernelspec": {
   "display_name": "Python 3",
   "language": "python",
   "name": "python3"
  },
  "language_info": {
   "codemirror_mode": {
    "name": "ipython",
    "version": 3
   },
   "file_extension": ".py",
   "mimetype": "text/x-python",
   "name": "python",
   "nbconvert_exporter": "python",
   "pygments_lexer": "ipython3",
   "version": "3.6.9"
  }
 },
 "nbformat": 4,
 "nbformat_minor": 2
}
